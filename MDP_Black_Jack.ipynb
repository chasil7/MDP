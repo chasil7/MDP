{
 "cells": [
  {
   "cell_type": "markdown",
   "metadata": {},
   "source": [
    "# MDP Para el juego Black Jack (21)\n",
    "\n",
    "$ MDP = <S,A, \\rho ,S_f,r > $\n",
    "\n",
    "$ S = (d,sum,n)$ \n",
    "\n",
    "$ A = \\{ fin, otra \\} $\n",
    "\n",
    "$ \\rho = ...$ \n",
    "\n",
    "$ S_f =  \\{ (0,0,0,1), (0,0,0,-1) \\} $\n",
    "\n",
    "$ r = $ 1 si gana, -1 si pierde y 0 en otro caso\n"
   ]
  },
  {
   "cell_type": "markdown",
   "metadata": {},
   "source": [
    "## Definiciones principales del Modelo"
   ]
  },
  {
   "cell_type": "code",
   "execution_count": 1,
   "metadata": {
    "collapsed": true
   },
   "outputs": [],
   "source": [
    "abstract type MDP end\n",
    "abstract type estado end\n",
    "abstract type accion end"
   ]
  },
  {
   "cell_type": "code",
   "execution_count": 2,
   "metadata": {
    "collapsed": true
   },
   "outputs": [],
   "source": [
    "struct BlackJ_s <:estado\n",
    "    d #dealer\n",
    "    sum #suma del jugador\n",
    "    n #numero de cartas\n",
    "    as #indica si se puede sumar 10 a sum o no. (1,0)\n",
    "\n",
    "    function BlackJ_s(d::Int,sum::Int,n::Int,as::Int)\n",
    "        if (d > 10 || sum>22 || n>4 || as>1 )\n",
    "            error(\"estado invalido\")\n",
    "        else\n",
    "            return new(d,sum,n,as)\n",
    "        end\n",
    "    end\n",
    "end\n"
   ]
  },
  {
   "cell_type": "code",
   "execution_count": 72,
   "metadata": {},
   "outputs": [
    {
     "data": {
      "text/plain": [
       "BlackJ_s(5, 0, 0, -1)"
      ]
     },
     "execution_count": 72,
     "metadata": {},
     "output_type": "execute_result"
    }
   ],
   "source": [
    "BlackJ_s(5,0,0,-1)"
   ]
  },
  {
   "cell_type": "code",
   "execution_count": 4,
   "metadata": {
    "collapsed": true
   },
   "outputs": [],
   "source": [
    "struct BlackJ_a <:accion\n",
    "    a\n",
    "    function BlackJ_a(a)\n",
    "        if (a != :fin && a!= :otra)\n",
    "            error(\"accion invalida\")\n",
    "        else\n",
    "            new(a)\n",
    "        end\n",
    "    end\n",
    "end"
   ]
  },
  {
   "cell_type": "code",
   "execution_count": 5,
   "metadata": {},
   "outputs": [
    {
     "data": {
      "text/plain": [
       "BlackJ_a(:otra)"
      ]
     },
     "execution_count": 5,
     "metadata": {},
     "output_type": "execute_result"
    }
   ],
   "source": [
    "BlackJ_a(:otra)"
   ]
  },
  {
   "cell_type": "markdown",
   "metadata": {},
   "source": [
    "## Funciones del Modelo"
   ]
  },
  {
   "cell_type": "code",
   "execution_count": 81,
   "metadata": {},
   "outputs": [
    {
     "data": {
      "text/plain": [
       "r (generic function with 1 method)"
      ]
     },
     "execution_count": 81,
     "metadata": {},
     "output_type": "execute_result"
    }
   ],
   "source": [
    "#terminal\n",
    "function terminal(s::BlackJ_s)\n",
    "    (s.d==s.sum==s.n==0) && (s.as==1 || s.as==-1) ? true : false\n",
    "end\n",
    "\n",
    "\n",
    "\n",
    "\n",
    "\n",
    "#acciones legales\n",
    "function aLegales(s::BlackJ_s)\n",
    "    if terminal(s)\n",
    "        return nothing\n",
    "    end\n",
    "    acciones = []\n",
    "    if s.sum<21 && s.n<4\n",
    "        push!(acciones,BlackJ_a(:otra))\n",
    "    end\n",
    "    push!(acciones,BlackJ_a(:fin))\n",
    "    acciones\n",
    "end\n",
    "\n",
    "\n",
    "\n",
    "\n",
    "#probabilidad de Transicion\n",
    "function ρ(s::BlackJ_s,a::BlackJ_a,s2::BlackJ_s)\n",
    "    \n",
    "    # si s2 es terminal\n",
    "    if s2.d==s2.sum==s2.n==0 && s2.as==1\n",
    "        return 0.5\n",
    "    \n",
    "    elseif s2.d==s2.sum==s2.n==0 && s2.as==-1\n",
    "        return 0.3\n",
    "    \n",
    "    # si s2 no es terminal\n",
    "    else\n",
    "        \n",
    "        if a.a == :otra # elige otra\n",
    "            if s2.d ==s.d && s2.n==s.n+1\n",
    "                if s2.sum-s.sum<9 && s2.sum-s.sum>0\n",
    "                    return 1/13\n",
    "                else if s2.sum-s.sum==10\n",
    "                    return 4/10\n",
    "                else\n",
    "                    return 0\n",
    "            else\n",
    "                return 0\n",
    "        else if a.a == :fin # elige fin\n",
    "        \n",
    "    end\n",
    "        \n",
    "end\n",
    "\n",
    "            \n",
    "            \n",
    "            \n",
    "#recompenza\n",
    "function r(s::BlackJ_s)\n",
    "    if s.d==s.sum==s.n==0 && s.as==1\n",
    "        return 1\n",
    "    elseif s.d==s.sum==s.n==0 && s.as==-1\n",
    "        return -1\n",
    "    end\n",
    "    0\n",
    "end\n"
   ]
  },
  {
   "cell_type": "code",
   "execution_count": 78,
   "metadata": {},
   "outputs": [
    {
     "name": "stdout",
     "output_type": "stream",
     "text": [
      "BlackJ_s\n",
      "false\n",
      "Any[BlackJ_a(:otra), BlackJ_a(:fin)]\n",
      "0\n",
      "0.2\n"
     ]
    }
   ],
   "source": [
    "s1 = BlackJ_s(5,13,2,0)\n",
    "\n",
    "println(typeof(s1))\n",
    "\n",
    "println(terminal(s1))\n",
    "\n",
    "show(aLegales(s1))\n",
    "\n",
    "println()\n",
    "\n",
    "println(r(s1))\n",
    "\n",
    "println(ρ(s1, BlackJ_a(:fin), BlackJ_s(0,0,0,1)))"
   ]
  },
  {
   "cell_type": "markdown",
   "metadata": {},
   "source": [
    "## Generacion de estados"
   ]
  },
  {
   "cell_type": "code",
   "execution_count": 80,
   "metadata": {},
   "outputs": [
    {
     "data": {
      "text/plain": [
       "1480-element Array{BlackJ_s,1}:\n",
       " BlackJ_s(1, 1, 1, 0)  \n",
       " BlackJ_s(1, 1, 1, 1)  \n",
       " BlackJ_s(1, 2, 1, 0)  \n",
       " BlackJ_s(1, 2, 1, 1)  \n",
       " BlackJ_s(1, 3, 1, 0)  \n",
       " BlackJ_s(1, 3, 1, 1)  \n",
       " BlackJ_s(1, 4, 1, 0)  \n",
       " BlackJ_s(1, 4, 1, 1)  \n",
       " BlackJ_s(1, 5, 1, 0)  \n",
       " BlackJ_s(1, 5, 1, 1)  \n",
       " BlackJ_s(1, 6, 1, 0)  \n",
       " BlackJ_s(1, 6, 1, 1)  \n",
       " BlackJ_s(1, 7, 1, 0)  \n",
       " ⋮                     \n",
       " BlackJ_s(10, 17, 4, 0)\n",
       " BlackJ_s(10, 17, 4, 1)\n",
       " BlackJ_s(10, 18, 4, 0)\n",
       " BlackJ_s(10, 18, 4, 1)\n",
       " BlackJ_s(10, 19, 4, 0)\n",
       " BlackJ_s(10, 19, 4, 1)\n",
       " BlackJ_s(10, 20, 4, 0)\n",
       " BlackJ_s(10, 20, 4, 1)\n",
       " BlackJ_s(10, 21, 4, 0)\n",
       " BlackJ_s(10, 21, 4, 1)\n",
       " BlackJ_s(10, 22, 4, 0)\n",
       " BlackJ_s(10, 22, 4, 1)"
      ]
     },
     "execution_count": 80,
     "metadata": {},
     "output_type": "execute_result"
    }
   ],
   "source": [
    "est=[BlackJ_s(1,1,1,0)]\n",
    "pop!(est)\n",
    "\n",
    "for k in 1:4 #num\n",
    "    if k==1\n",
    "        x=10 \n",
    "    elseif k==2 \n",
    "        x=20\n",
    "    else\n",
    "        x=22\n",
    "    end\n",
    "    for i in 1:10 #dealer\n",
    "        for j in 1:x #sum\n",
    "            for l in 0:1\n",
    "                push!(est,BlackJ_s(i,j,k,l))\n",
    "            end\n",
    "        end\n",
    "    end\n",
    "end\n",
    "\n",
    "\n",
    "est"
   ]
  },
  {
   "cell_type": "markdown",
   "metadata": {},
   "source": [
    "## Generacion de acciones"
   ]
  },
  {
   "cell_type": "code",
   "execution_count": 9,
   "metadata": {},
   "outputs": [
    {
     "data": {
      "text/plain": [
       "2-element Array{BlackJ_a,1}:\n",
       " BlackJ_a(:fin) \n",
       " BlackJ_a(:otra)"
      ]
     },
     "execution_count": 9,
     "metadata": {},
     "output_type": "execute_result"
    }
   ],
   "source": [
    "ac = [BlackJ_a(:fin), BlackJ_a(:otra)]\n",
    "ac"
   ]
  },
  {
   "cell_type": "markdown",
   "metadata": {},
   "source": [
    "## Modelo MDP"
   ]
  },
  {
   "cell_type": "code",
   "execution_count": 10,
   "metadata": {
    "collapsed": true
   },
   "outputs": [],
   "source": [
    "struct BlackJ <: MDP\n",
    "    estados\n",
    "    acciones\n",
    "    function BlackJ(estados::Array{BlackJ_s,1}, acciones::Array{BlackJ_a,1})\n",
    "        new(estados,acciones)\n",
    "    end\n",
    "end"
   ]
  },
  {
   "cell_type": "code",
   "execution_count": 14,
   "metadata": {},
   "outputs": [
    {
     "data": {
      "text/plain": [
       "BlackJ(BlackJ_s[BlackJ_s(1, 1, 1, 0), BlackJ_s(1, 1, 1, 1), BlackJ_s(1, 2, 1, 0), BlackJ_s(1, 2, 1, 1), BlackJ_s(1, 3, 1, 0), BlackJ_s(1, 3, 1, 1), BlackJ_s(1, 4, 1, 0), BlackJ_s(1, 4, 1, 1), BlackJ_s(1, 5, 1, 0), BlackJ_s(1, 5, 1, 1)  …  BlackJ_s(10, 18, 4, 0), BlackJ_s(10, 18, 4, 1), BlackJ_s(10, 19, 4, 0), BlackJ_s(10, 19, 4, 1), BlackJ_s(10, 20, 4, 0), BlackJ_s(10, 20, 4, 1), BlackJ_s(10, 21, 4, 0), BlackJ_s(10, 21, 4, 1), BlackJ_s(10, 22, 4, 0), BlackJ_s(10, 22, 4, 1)], BlackJ_a[BlackJ_a(:fin), BlackJ_a(:otra)])"
      ]
     },
     "execution_count": 14,
     "metadata": {},
     "output_type": "execute_result"
    }
   ],
   "source": [
    "BJ = BlackJ(est,ac)"
   ]
  },
  {
   "cell_type": "markdown",
   "metadata": {},
   "source": [
    "## Algoritmo de Programacion Dinamica"
   ]
  },
  {
   "cell_type": "code",
   "execution_count": 50,
   "metadata": {},
   "outputs": [
    {
     "data": {
      "text/plain": [
       "policy_value (generic function with 1 method)"
      ]
     },
     "execution_count": 50,
     "metadata": {},
     "output_type": "execute_result"
    }
   ],
   "source": [
    "function policy_value(MDP,π, γ)\n",
    "    \n",
    "    v = Dict(si => 0 for si in MDP.estados)\n",
    "    flag=true\n",
    "    \n",
    "    while flag\n",
    "        flag=false\n",
    "        for s in keys(v)\n",
    "            temp=sum([ρ(s,π[s],sp)*(r(s)+γ*v[sp]) for sp in MDP.estados])\n",
    "            if temp!=v[s]\n",
    "                flag=true\n",
    "            end\n",
    "            v[s]=temp\n",
    "        end\n",
    "    end\n",
    "    \n",
    "    v\n",
    "end"
   ]
  },
  {
   "cell_type": "code",
   "execution_count": 70,
   "metadata": {},
   "outputs": [
    {
     "data": {
      "text/plain": [
       "9"
      ]
     },
     "execution_count": 70,
     "metadata": {},
     "output_type": "execute_result"
    }
   ],
   "source": [
    "function choice(a::Array)\n",
    "    n = length(a)\n",
    "    idx = rand(1:n)\n",
    "    return a[idx]\n",
    "end\n",
    "\n",
    "choice([1,5,8,9])"
   ]
  },
  {
   "cell_type": "code",
   "execution_count": 55,
   "metadata": {},
   "outputs": [
    {
     "data": {
      "text/plain": [
       "policy_iteration (generic function with 1 method)"
      ]
     },
     "execution_count": 55,
     "metadata": {},
     "output_type": "execute_result"
    }
   ],
   "source": [
    "function policy_iteration(MDP,γ)\n",
    "    \n",
    "    π = Dict(s => choice(aLegales(s)) for s in MDP.estados)\n",
    "    \n",
    "    optima=false\n",
    "    \n",
    "    \n",
    "    while !optima\n",
    "        v = policy_value(MDP,π,γ)\n",
    "        optima=true\n",
    "        \n",
    "        for s in keys(v)\n",
    "            for a in MDP.acciones\n",
    "                temp=sum(ρ(s,a,s2)*(r(s)+γ*v[s2]) for s2 in keys(v))\n",
    "                if temp < v[s] # menor o mayor?\n",
    "                    optima=false\n",
    "                    π[s]=a\n",
    "                end\n",
    "            end\n",
    "        end\n",
    "    end\n",
    "    \n",
    "    π\n",
    "end"
   ]
  },
  {
   "cell_type": "code",
   "execution_count": 57,
   "metadata": {},
   "outputs": [
    {
     "data": {
      "text/plain": [
       "Dict{BlackJ_s,BlackJ_a} with 1480 entries:\n",
       "  BlackJ_s(5, 5, 4, 0)   => BlackJ_a(:fin)\n",
       "  BlackJ_s(5, 8, 2, 0)   => BlackJ_a(:fin)\n",
       "  BlackJ_s(3, 19, 2, 0)  => BlackJ_a(:otra)\n",
       "  BlackJ_s(3, 12, 2, 1)  => BlackJ_a(:fin)\n",
       "  BlackJ_s(5, 18, 3, 1)  => BlackJ_a(:fin)\n",
       "  BlackJ_s(9, 8, 4, 0)   => BlackJ_a(:fin)\n",
       "  BlackJ_s(6, 11, 3, 1)  => BlackJ_a(:fin)\n",
       "  BlackJ_s(3, 8, 2, 1)   => BlackJ_a(:otra)\n",
       "  BlackJ_s(6, 5, 4, 1)   => BlackJ_a(:fin)\n",
       "  BlackJ_s(6, 8, 4, 0)   => BlackJ_a(:fin)\n",
       "  BlackJ_s(1, 3, 1, 0)   => BlackJ_a(:otra)\n",
       "  BlackJ_s(3, 21, 3, 0)  => BlackJ_a(:fin)\n",
       "  BlackJ_s(4, 7, 2, 0)   => BlackJ_a(:otra)\n",
       "  BlackJ_s(1, 17, 4, 0)  => BlackJ_a(:fin)\n",
       "  BlackJ_s(10, 7, 1, 0)  => BlackJ_a(:fin)\n",
       "  BlackJ_s(1, 22, 4, 0)  => BlackJ_a(:fin)\n",
       "  BlackJ_s(7, 8, 2, 0)   => BlackJ_a(:otra)\n",
       "  BlackJ_s(6, 12, 3, 0)  => BlackJ_a(:otra)\n",
       "  BlackJ_s(7, 12, 3, 1)  => BlackJ_a(:otra)\n",
       "  BlackJ_s(2, 19, 3, 1)  => BlackJ_a(:fin)\n",
       "  BlackJ_s(10, 14, 4, 0) => BlackJ_a(:fin)\n",
       "  BlackJ_s(4, 1, 2, 1)   => BlackJ_a(:fin)\n",
       "  BlackJ_s(2, 15, 4, 0)  => BlackJ_a(:fin)\n",
       "  BlackJ_s(3, 12, 3, 1)  => BlackJ_a(:otra)\n",
       "  BlackJ_s(4, 5, 3, 0)   => BlackJ_a(:otra)\n",
       "  ⋮                      => ⋮"
      ]
     },
     "execution_count": 57,
     "metadata": {},
     "output_type": "execute_result"
    }
   ],
   "source": [
    "π_opt= policy_iteration(BJ,0.7)\n",
    "\n",
    "π_opt"
   ]
  },
  {
   "cell_type": "code",
   "execution_count": null,
   "metadata": {
    "collapsed": true
   },
   "outputs": [],
   "source": []
  }
 ],
 "metadata": {
  "kernelspec": {
   "display_name": "Julia 1.0.0",
   "language": "julia",
   "name": "julia-1.0"
  },
  "language_info": {
   "file_extension": ".jl",
   "mimetype": "application/julia",
   "name": "julia",
   "version": "1.0.0"
  }
 },
 "nbformat": 4,
 "nbformat_minor": 2
}
