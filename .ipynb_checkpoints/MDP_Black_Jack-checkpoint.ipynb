{
 "cells": [
  {
   "cell_type": "markdown",
   "metadata": {},
   "source": [
    "# MDP Para el juego Black Jack (21)\n",
    "\n",
    "$ MDP = <S,A, \\rho ,S_f,r > $\n",
    "\n",
    "$ S = (d,sum,n)$ \n",
    "\n",
    "$ A = \\{ fin, otra \\} $\n",
    "\n",
    "$ \\rho = ...$ \n",
    "\n",
    "$ S_f =  \\{ (0,0,0,1), (0,0,0,-1) \\} $\n",
    "\n",
    "$ r = $ 1 si gana, -1 si pierde y 0 en otro caso\n"
   ]
  },
  {
   "cell_type": "markdown",
   "metadata": {},
   "source": [
    "## Definiciones principales del Modelo"
   ]
  },
  {
   "cell_type": "code",
   "execution_count": 12,
   "metadata": {
    "collapsed": true
   },
   "outputs": [],
   "source": [
    "abstract type MDP end\n",
    "abstract type Estado end\n",
    "abstract type Accion end"
   ]
  },
  {
   "cell_type": "code",
   "execution_count": 13,
   "metadata": {
    "collapsed": true
   },
   "outputs": [],
   "source": [
    "struct BJ_s <:Estado\n",
    "    d #dealer\n",
    "    sum #suma del jugador\n",
    "    n #numero de cartas\n",
    "    as #indica si se puede sumar 10 a sum o no. (1,0)\n",
    "\n",
    "    function BJ_s(d::Int,sum::Int,n::Int,as::Int)\n",
    "        if (d > 10 || sum>22 || n>4 || as>1 )\n",
    "            error(\"estado invalido\")\n",
    "        else\n",
    "            return new(d,sum,n,as)\n",
    "        end\n",
    "    end\n",
    "end\n"
   ]
  },
  {
   "cell_type": "code",
   "execution_count": 14,
   "metadata": {},
   "outputs": [
    {
     "data": {
      "text/plain": [
       "BJ_s(5, 0, 0, -1)"
      ]
     },
     "execution_count": 14,
     "metadata": {},
     "output_type": "execute_result"
    }
   ],
   "source": [
    "BJ_s(5,0,0,-1)"
   ]
  },
  {
   "cell_type": "code",
   "execution_count": 15,
   "metadata": {
    "collapsed": true
   },
   "outputs": [],
   "source": [
    "struct BJ_a <:Accion\n",
    "    a\n",
    "    function BJ_a(a)\n",
    "        if (a != :fin && a!= :otra)\n",
    "            error(\"accion invalida\")\n",
    "        else\n",
    "            new(a)\n",
    "        end\n",
    "    end\n",
    "end"
   ]
  },
  {
   "cell_type": "code",
   "execution_count": 16,
   "metadata": {},
   "outputs": [
    {
     "data": {
      "text/plain": [
       "BJ_a(:otra)"
      ]
     },
     "execution_count": 16,
     "metadata": {},
     "output_type": "execute_result"
    }
   ],
   "source": [
    "BJ_a(:otra)"
   ]
  },
  {
   "cell_type": "markdown",
   "metadata": {},
   "source": [
    "## Funciones del Modelo"
   ]
  },
  {
   "cell_type": "code",
   "execution_count": 17,
   "metadata": {},
   "outputs": [
    {
     "data": {
      "text/plain": [
       "r (generic function with 1 method)"
      ]
     },
     "execution_count": 17,
     "metadata": {},
     "output_type": "execute_result"
    }
   ],
   "source": [
    "#terminal\n",
    "function terminal(s::BJ_s)\n",
    "    (s.d==s.sum==s.n==0) && (s.as==1 || s.as==-1) ? true : false\n",
    "end\n",
    "\n",
    "\n",
    "#acciones legales\n",
    "function aLegales(s::BJ_s)\n",
    "    if terminal(s)\n",
    "        return nothing\n",
    "    end\n",
    "    \n",
    "    acciones = []\n",
    "    \n",
    "    if s.sum<=21 && s.n<4\n",
    "        push!(acciones,BJ_a(:otra))\n",
    "    end\n",
    "    \n",
    "    push!(acciones,BJ_a(:fin))\n",
    "    \n",
    "    acciones\n",
    "end\n",
    "                        \n",
    "#recompenza\n",
    "function r(s::BJ_s)\n",
    "    if s.d==s.sum==s.n==0 && s.as==1\n",
    "        return 1\n",
    "    elseif s.d==s.sum==s.n==0 && s.as==-1\n",
    "        return -1\n",
    "    end\n",
    "    0\n",
    "end\n"
   ]
  },
  {
   "cell_type": "code",
   "execution_count": 18,
   "metadata": {},
   "outputs": [],
   "source": [
    "# Funciones auxiliares\n",
    "\n",
    "\"\"\"\n",
    "Calcula el numero de opciones de una carta cuya valor esta entre dos valores. (izq_ , der_).\n",
    "(Nota: El valor que se busca es estrictamente mayor que el izq_ y menor o igual que el der_)\n",
    "\"\"\"\n",
    "\n",
    "function comb1carta(izq_,der_)\n",
    "    \n",
    "    if izq_>= der_ return 0 end\n",
    "    \n",
    "    total=0;\n",
    "\n",
    "    \n",
    "    if izq_<9 total+=min(9,der_)-max(izq_,0) end\n",
    "    if (der_>=10 && izq_<10) total+=4 end\n",
    "    if (der_>=11 && izq_<11) total+=1 end\n",
    "    \n",
    "\n",
    "    #println(\"total de combinaciones \",total)\n",
    "    total\n",
    "end\n",
    "\n",
    "\n",
    "\"\"\"\n",
    "Calcula el numero de combinaciones de dos cartas cuya suma esta entre dos valores. (izq_ , der_)\n",
    "(Nota: El valor suma que se busca es estrictamente mayor que el izq_ y menor o igual que el der_)\n",
    "\"\"\"\n",
    "\n",
    "function comb2cartas(izq_,der_,acum,cond)\n",
    "        \n",
    "    if izq_>= der_ return 0 end\n",
    "            \n",
    "    total=0; i=1 \n",
    "    izq=izq_-i\n",
    "    der=der_-i\n",
    "    \n",
    "    while (der>0 && i<=11 && acum+i<cond)\n",
    "    \n",
    "        y=comb1carta(izq,der)\n",
    "        i==10 ? total+=4*min(y,13) : total+=min(y,13)\n",
    "        i+=1\n",
    "        izq-=1\n",
    "        der-=1\n",
    "    end\n",
    "    #println(\"total de combinaciones \",total)\n",
    "    total\n",
    "end\n",
    "\n",
    "\"\"\"\n",
    "Calcula el numero de combinaciones de tres cartas cuya suma esta entre dos valores. (izq_ , der_)\n",
    "(Nota: El valor suma que se busca es estrictamente mayor que el izq_ y menor o igual que el der_)\n",
    "\"\"\"\n",
    "\n",
    "function comb3cartas(izq_,der_, acum, cond)\n",
    "        \n",
    "    if izq_>= der_ return 0 end\n",
    "    total=0\n",
    "    for i in 1:11\n",
    "        \n",
    "        if acum + i >=17 break end\n",
    "            \n",
    "        total+=comb2cartas(izq_ - i, der_ -i, acum+i, cond)\n",
    "    end\n",
    "    total\n",
    "end\n",
    "\n"
   ]
  },
  {
   "cell_type": "code",
   "execution_count": 57,
   "metadata": {},
   "outputs": [
    {
     "data": {
      "text/plain": [
       "ρ (generic function with 1 method)"
      ]
     },
     "execution_count": 57,
     "metadata": {},
     "output_type": "execute_result"
    }
   ],
   "source": [
    "#probabilidad de Transicion\n",
    "function ρ(s::BJ_s,a::BJ_a,s2::BJ_s)\n",
    "    \n",
    "    if  terminal(s) \n",
    "        return 0\n",
    "    end\n",
    "    \n",
    "    if a ∉ aLegales(s)\n",
    "        return 0\n",
    "    end\n",
    "    \n",
    "    if a.a == :fin\n",
    "        if s2.d==s2.sum==s2.n==0 && s2.as==1 #si gana\n",
    "            s.as==1 && s.sum+10< 22 ? sum=s.sum+10 : sum=s.sum #de una vez sumo lo del as si conviene.\n",
    "            if sum==21 return 1 end\n",
    "            \n",
    "            #println(\"sum= \",sum)\n",
    "            x=0 #guardara todos los casos en los que puede perder el dealer.\n",
    "            \n",
    "            z=0\n",
    "            z+=comb1carta(16-s.d,44-s.d) #Jugadas con 2 cartas\n",
    "            z+=comb2cartas(16-s.d,44-s.d,s.d,17)#Jugadas con 3 cartas\n",
    "            z+=comb3cartas(16-s.d,44-s.d,s.d,17)#Jugadas con 4 cartas \n",
    "            z+=comb3cartas(0,44-s.d,s.d,17) #Jugadas con 4 cartas\n",
    "    \n",
    "            if sum >= s.d # si el jugador tiene mas que la carta del dealer\n",
    "                dif = sum-s.d\n",
    "                \n",
    "                #Formas en las que puede perder el dealer (en general): \n",
    "                #con 2 cartas \n",
    "                \"\"\"if dif<10 \n",
    "                    x+=dif-1\n",
    "                    if s.d+11 >21 x+=1 end\n",
    "                elseif dif==10 x+=12 \n",
    "                else x+=13\n",
    "                end\"\"\"\n",
    "                \n",
    "                #con 3 cartas (en general)\n",
    "                \"\"\"\n",
    "                x+=169 - comb2cartas(dif,21-s.d)\n",
    "                \"\"\"\n",
    "                #con 4 cartas (en general)\n",
    "                \"\"\"\n",
    "                x+=2197 - comb3cartas(dif,21-s.d)\n",
    "                \n",
    "                return x/2379\"\"\"\n",
    "                \n",
    "                #Formas en las que puede perder el dealer (jugando con las reglas de dealer).\n",
    "                #con 2 cartas : max(16,sum)<s.d + 1 carta<=21.\n",
    "                #con 3 cartas: max(16,sum)<s.d + suma de 2 cartas<=21.\n",
    "                #con 4 cartas: max(16,sum)<s.d + suma de 3 cartas<=21 o tambien que la suma sea menor que 21.\n",
    "                \n",
    "                if s.d!=1\n",
    "                    x+=comb1carta(max(16,sum)-s.d,21-s.d) #Casos en los que gana con 2 cartas \n",
    "                    x+=comb2cartas(max(16,sum)-s.d,21-s.d,s.d,17)#Casos en los que gana con 3 cartas \n",
    "                    x+=comb3cartas(max(16,sum)-s.d,21-s.d,s.d,17)#Casos en los que gana con 4 cartas \n",
    "                    x+=comb3cartas(0,21-s.d,s.d,17) #Casos en los que gana con 4 cartas \n",
    "                else\n",
    "                    x+=comb1carta(max(16,sum)-s.d,21-s.d) #Casos en los que gana con 2 cartas \n",
    "                    x+=comb2cartas(max(16,sum)-s.d,21-s.d,s.d,17)#Casos en los que gana con 3 cartas \n",
    "                    x+=comb3cartas(max(16,sum)-s.d,21-s.d,s.d,17)#Casos en los que gana con 4 cartas \n",
    "                    x+=comb3cartas(0,21-s.d,s.d,17) #Casos en los que gana con 4 cartas \n",
    "                end\n",
    "\n",
    "  \n",
    "                return 1 - x/z\n",
    "                        \n",
    "            else # si el dealer inicialmente ya tiene mas que el jugador.\n",
    "                        \n",
    "                # La probabilidad de que el dealer se pase (en general)\n",
    "                \"\"\"\n",
    "                x+=169 - comb2cartas(s.d,21)\n",
    "                x+=2197 - comb3cartas(s.d,21)\n",
    "                \n",
    "                return x/2380\n",
    "                \"\"\"\n",
    "                # La probabilidad de que el dealer se pase (reglas del dealer)\n",
    "                if s.d!=1\n",
    "                    x+=comb2cartas(21-s.d,44-s.d,s.d,17)#Casos en los que se pasa con 3 cartas\n",
    "                    x+=comb3cartas(21-s.d,44-s.d,s.d,17)#Casos en los que se pasa con 4 cartas\n",
    "                else\n",
    "                    x+=comb2cartas(21-s.d,44-s.d,s.d,17)#Casos en los que se pasa con 3 cartas \n",
    "                    x+=comb3cartas(21-s.d,44-s.d,s.d,17)#Casos en los que se pasa con 4 cartas\n",
    "                end\n",
    "                \n",
    "                #conjunto de jugadas totales del dealer.\n",
    "                \n",
    "                return x/z\n",
    "            \n",
    "            end\n",
    "            \n",
    "            \n",
    "            \n",
    "        elseif s2.d==s2.sum==s2.n==0 && s2.as==-1 #si pierde\n",
    "            return 1 - ρ(s,a,BJ_s(0,0,0,1))\n",
    "        \n",
    "        #else: pasar a otro estado que no sea ganar ni perder\n",
    "        end\n",
    "        \n",
    "    elseif a.a== :otra\n",
    "        if s2.d==s2.sum==s2.n==0 && s2.as==1 #si gana automaticamente. (llegar a las 4 cuartas y sum<21)\n",
    "            if s.n==3\n",
    "                dif=21-s.sum\n",
    "                if dif<10 return (dif/13) #no me dejo dif<10 ? return dif/13:1\n",
    "                else return 1\n",
    "                end\n",
    "            #else: cundo no tendra 4 cartas e inclusive puede tener 21. Solo que necesita una jugada \n",
    "            #extra donde decida finalizar\n",
    "            end\n",
    "        elseif s2.d==s2.sum==s2.n==0 && s2.as==-1 #si pierde automaticamente.(cuando se pase de 21)\n",
    "            dif=22-s.sum\n",
    "            if dif<10  return (10-dif+4)/13\n",
    "            elseif dif==10 return 4/13\n",
    "            #else: cuando la diferencia sea mas de lo que puede sumar una carta\n",
    "            end\n",
    "        elseif s2.d ==s.d && s2.n==s.n+1 #si aumenta en 1 el num de cartas y el dealer es el mismo\n",
    "                if s2.sum-s.sum<10 && s2.sum-s.sum>1 #si anda entre 2 y 9 lo que aumenta la suma\n",
    "                    return 0.0769 #1/13\n",
    "                elseif s2.sum-s.sum==1 # si aumento en 1 la suma, solo puede ser un As\n",
    "                    if s2.as==1 return 0.0769 end                    \n",
    "                elseif s2.sum-s.sum==10 #si aumenta en 10 hay 4 posibilidades\n",
    "                    return 0.3077\n",
    "                end \n",
    "        end\n",
    "    \n",
    "    end\n",
    "    \n",
    "    0 #todos los else\n",
    "        \n",
    "end"
   ]
  },
  {
   "cell_type": "code",
   "execution_count": 66,
   "metadata": {},
   "outputs": [
    {
     "name": "stdout",
     "output_type": "stream",
     "text": [
      "Es terminal el estado BJ_s(8, 15, 2, 0) ? : false\n",
      "Acciones legales de BJ_s(8, 15, 2, 0) : Any[BJ_a(:otra), BJ_a(:fin)]\n",
      "Recompenza de BJ_s(8, 15, 2, 0) : 0\n",
      "Probabilidad de pasar de BJ_s(7, 10, 3, 0) a BJ_s(0, 0, 0, 1) tomando la accion BJ_a(:otra): 1\n"
     ]
    }
   ],
   "source": [
    "s1=BJ_s(8,15,2,0)\n",
    "println(\"Es terminal el estado $s1 ? : \",terminal(s1))\n",
    "println(\"Acciones legales de $s1 : \", aLegales(s1))\n",
    "println(\"Recompenza de $s1 : \", r(s1))\n",
    "\n",
    "s2=BJ_s(7,10,3,0)\n",
    "s3=BJ_s(0,0,0,1)\n",
    "a=BJ_a(:otra)\n",
    "println(\"Probabilidad de pasar de $s2 a $s3 tomando la accion $a: \",ρ(s2,a,s3))\n"
   ]
  },
  {
   "cell_type": "markdown",
   "metadata": {},
   "source": [
    "## Generacion de estados"
   ]
  },
  {
   "cell_type": "code",
   "execution_count": 49,
   "metadata": {},
   "outputs": [
    {
     "data": {
      "text/plain": [
       "952-element Array{BJ_s,1}:\n",
       " BJ_s(1, 3, 2, 0)  \n",
       " BJ_s(1, 3, 2, 1)  \n",
       " BJ_s(1, 4, 2, 0)  \n",
       " BJ_s(1, 4, 2, 1)  \n",
       " BJ_s(1, 5, 2, 0)  \n",
       " BJ_s(1, 5, 2, 1)  \n",
       " BJ_s(1, 6, 2, 0)  \n",
       " BJ_s(1, 6, 2, 1)  \n",
       " BJ_s(1, 7, 2, 0)  \n",
       " BJ_s(1, 7, 2, 1)  \n",
       " BJ_s(1, 8, 2, 0)  \n",
       " BJ_s(1, 8, 2, 1)  \n",
       " BJ_s(1, 9, 2, 0)  \n",
       " ⋮                 \n",
       " BJ_s(10, 17, 4, 0)\n",
       " BJ_s(10, 17, 4, 1)\n",
       " BJ_s(10, 18, 4, 0)\n",
       " BJ_s(10, 18, 4, 1)\n",
       " BJ_s(10, 19, 4, 0)\n",
       " BJ_s(10, 19, 4, 1)\n",
       " BJ_s(10, 20, 4, 0)\n",
       " BJ_s(10, 20, 4, 1)\n",
       " BJ_s(10, 21, 4, 0)\n",
       " BJ_s(10, 21, 4, 1)\n",
       " BJ_s(0, 0, 0, 1)  \n",
       " BJ_s(0, 0, 0, -1) "
      ]
     },
     "execution_count": 49,
     "metadata": {},
     "output_type": "execute_result"
    }
   ],
   "source": [
    "est=[BJ_s(1,1,1,0)]\n",
    "pop!(est)\n",
    "\n",
    "for k in 2:4 #num\n",
    "    if k==1\n",
    "        x=10 \n",
    "    elseif k==2 \n",
    "        x=20\n",
    "    else\n",
    "        x=21\n",
    "    end\n",
    "    for i in 1:10 #dealer\n",
    "        for j in 1:x #sum\n",
    "            for l in 0:1 #as\n",
    "                if j>k\n",
    "                    if l==1 && j<=(k-1)*10\n",
    "                        push!(est,BJ_s(i,j,k,l))\n",
    "                    elseif l==0\n",
    "                        push!(est,BJ_s(i,j,k,l))\n",
    "                    end\n",
    "                end\n",
    "            end\n",
    "        end\n",
    "    end\n",
    "end\n",
    "\n",
    "push!(est,BJ_s(0,0,0,1))\n",
    "push!(est,BJ_s(0,0,0,-1))\n",
    "\n",
    "est"
   ]
  },
  {
   "cell_type": "markdown",
   "metadata": {},
   "source": [
    "## Generacion de acciones"
   ]
  },
  {
   "cell_type": "code",
   "execution_count": 50,
   "metadata": {},
   "outputs": [
    {
     "data": {
      "text/plain": [
       "2-element Array{BJ_a,1}:\n",
       " BJ_a(:fin) \n",
       " BJ_a(:otra)"
      ]
     },
     "execution_count": 50,
     "metadata": {},
     "output_type": "execute_result"
    }
   ],
   "source": [
    "ac = [BJ_a(:fin), BJ_a(:otra)]\n",
    "ac"
   ]
  },
  {
   "cell_type": "markdown",
   "metadata": {},
   "source": [
    "## Modelo MDP"
   ]
  },
  {
   "cell_type": "code",
   "execution_count": 51,
   "metadata": {
    "collapsed": true
   },
   "outputs": [],
   "source": [
    "struct BJ <: MDP\n",
    "    estados\n",
    "    acciones\n",
    "    function BJ(estados::Array{BJ_s,1}, acciones::Array{BJ_a,1})\n",
    "        new(estados,acciones)\n",
    "    end\n",
    "end"
   ]
  },
  {
   "cell_type": "code",
   "execution_count": 52,
   "metadata": {
    "collapsed": true
   },
   "outputs": [],
   "source": [
    "BlackJ = BJ(est,ac)\n",
    "\n"
   ]
  },
  {
   "cell_type": "markdown",
   "metadata": {},
   "source": [
    "## Algoritmo de Programacion Dinamica"
   ]
  },
  {
   "cell_type": "code",
   "execution_count": 53,
   "metadata": {},
   "outputs": [
    {
     "data": {
      "text/plain": [
       "policy_value (generic function with 1 method)"
      ]
     },
     "execution_count": 53,
     "metadata": {},
     "output_type": "execute_result"
    }
   ],
   "source": [
    "function policy_value(mdp::MDP,π::Dict, γ::Real)\n",
    "    \n",
    "    v = Dict(si => 0 for si in mdp.estados)\n",
    "    \n",
    "    flag=true\n",
    "    \n",
    "    while flag\n",
    "        flag=false\n",
    "        \n",
    "        \n",
    "        for s ∈ keys(π)\n",
    "            \n",
    "            #temp=sum([ρ(s,π[s],sp)==0 ? r(s) : ρ(s,π[s],sp)*(r(s)+γ*v[sp]) for sp in keys(v)])\n",
    "            temp=sum([ρ(s,π[s],sp)*(r(s)+γ*v[sp]) for sp in keys(v)])\n",
    "            \n",
    "            if temp!=v[s]\n",
    "                flag=true\n",
    "            end\n",
    "            v[s]=temp\n",
    "        end\n",
    "    end\n",
    "    \n",
    "    v\n",
    "end"
   ]
  },
  {
   "cell_type": "code",
   "execution_count": 55,
   "metadata": {},
   "outputs": [
    {
     "data": {
      "text/plain": [
       "policy_iteration (generic function with 1 method)"
      ]
     },
     "execution_count": 55,
     "metadata": {},
     "output_type": "execute_result"
    }
   ],
   "source": [
    "function policy_iteration(mdp::MDP,γ::Real)\n",
    "    \n",
    "    π = Dict(s => rand(aLegales(s)) for s in mdp.estados if !terminal(s))\n",
    "             \n",
    "    optima=false\n",
    "    \n",
    "   \n",
    "    while !optima\n",
    "        v = policy_value(mdp,π,γ)\n",
    "                    \n",
    "        optima=true\n",
    "\n",
    "        for s in keys(π)\n",
    "            for a in mdp.acciones\n",
    "                #temp=sum( ρ(s,π[s],s2)==0 ? r(s) : ρ(s,a,s2)*(r(s)+γ*v[s2]) for s2 in keys(v))\n",
    "                            \n",
    "                temp=sum( [ρ(s,a,s2)*(r(s)+γ*v[s2]) for s2 in keys(v)])\n",
    "                if temp < v[s] # \n",
    "                    optima=false\n",
    "                    π[s]=a\n",
    "                end\n",
    "            end\n",
    "        end\n",
    "    end\n",
    "    \n",
    "    π\n",
    "end"
   ]
  },
  {
   "cell_type": "code",
   "execution_count": 59,
   "metadata": {},
   "outputs": [
    {
     "data": {
      "text/plain": [
       "Dict{BJ_s,BJ_a} with 950 entries:\n",
       "  BJ_s(8, 16, 3, 1)  => BJ_a(:fin)\n",
       "  BJ_s(3, 8, 3, 0)   => BJ_a(:fin)\n",
       "  BJ_s(8, 8, 4, 0)   => BJ_a(:fin)\n",
       "  BJ_s(9, 10, 4, 0)  => BJ_a(:fin)\n",
       "  BJ_s(7, 8, 3, 0)   => BJ_a(:fin)\n",
       "  BJ_s(8, 15, 4, 0)  => BJ_a(:fin)\n",
       "  BJ_s(3, 15, 3, 1)  => BJ_a(:fin)\n",
       "  BJ_s(5, 18, 3, 0)  => BJ_a(:otra)\n",
       "  BJ_s(7, 9, 4, 1)   => BJ_a(:fin)\n",
       "  BJ_s(6, 10, 2, 0)  => BJ_a(:otra)\n",
       "  BJ_s(6, 16, 3, 0)  => BJ_a(:fin)\n",
       "  BJ_s(10, 8, 4, 0)  => BJ_a(:fin)\n",
       "  BJ_s(2, 13, 2, 0)  => BJ_a(:otra)\n",
       "  BJ_s(10, 13, 3, 1) => BJ_a(:fin)\n",
       "  BJ_s(8, 6, 2, 0)   => BJ_a(:fin)\n",
       "  BJ_s(10, 4, 3, 1)  => BJ_a(:otra)\n",
       "  BJ_s(2, 14, 4, 1)  => BJ_a(:fin)\n",
       "  BJ_s(4, 12, 3, 0)  => BJ_a(:fin)\n",
       "  BJ_s(2, 4, 2, 0)   => BJ_a(:fin)\n",
       "  BJ_s(9, 21, 3, 0)  => BJ_a(:fin)\n",
       "  BJ_s(1, 12, 4, 0)  => BJ_a(:fin)\n",
       "  BJ_s(1, 12, 3, 1)  => BJ_a(:otra)\n",
       "  BJ_s(3, 12, 2, 0)  => BJ_a(:otra)\n",
       "  BJ_s(9, 8, 4, 1)   => BJ_a(:fin)\n",
       "  BJ_s(8, 9, 4, 1)   => BJ_a(:fin)\n",
       "  ⋮                  => ⋮"
      ]
     },
     "execution_count": 59,
     "metadata": {},
     "output_type": "execute_result"
    }
   ],
   "source": [
    "π_opt= policy_iteration(BlackJ,1)\n",
    "\n",
    "π_opt"
   ]
  },
  {
   "cell_type": "code",
   "execution_count": 19,
   "metadata": {},
   "outputs": [
    {
     "data": {
      "text/plain": [
       "iter_value (generic function with 1 method)"
      ]
     },
     "execution_count": 19,
     "metadata": {},
     "output_type": "execute_result"
    }
   ],
   "source": [
    "function iter_value(mdp::MDP,γ::Real)\n",
    "    \n",
    "    V = Dict(s => 0 for s in mdp.estados)\n",
    "    Vp = Dict(s => 0 for s in mdp.estados)\n",
    "    \n",
    "             \n",
    "    optima=false\n",
    "    \n",
    "   \n",
    "    while !optima\n",
    "        \n",
    "        optima = true\n",
    "        for s in keys(V)\n",
    "            \n",
    "            opc = []\n",
    "            for a in mdp.acciones\n",
    "                suma=0\n",
    "                for s2 in mdp.estados\n",
    "                    suma+= ρ(s,a,s2)==0 ? r(s) : ρ(s,a,s2)*(r(s)+γ*V[s2])\n",
    "                end\n",
    "                push!(opc,suma)\n",
    "                \n",
    "            end\n",
    "            println(opc)\n",
    "            println(\"antes \", typeof(opc))\n",
    "            \n",
    "            Vp[s]=maximum(opc)\n",
    "            println(\"despues\")\n",
    "            \n",
    "            \"\"\"\n",
    "            Vp[s]=maximum([sum([ ρ(s,a,s2)==0 ? r(s) : ρ(s,a,s2)*(r(s)+γ*V[s2]) for s2 in mdp.estados ]) \n",
    "                    for a in mdp.acciones])\"\"\"\n",
    "            \n",
    "            if Vp[s]>V[s] \n",
    "                optima=false\n",
    "                V[s]=Vp[s]\n",
    "            end\n",
    "            \n",
    "        end\n",
    "        \n",
    "    end\n",
    "    \n",
    "\n",
    "    s_legales=[s for s in mdp.estados if !terminal(s)]\n",
    "    \n",
    "    sx=rand(s_legales)\n",
    "                            \n",
    "    π_ = Dict(sx => rand(aLegales(sx)))\n",
    "    \n",
    "    for s in s_legales \n",
    "       \n",
    "        π_[s]=findmax(Dict(a => sum([ρ(s,a,s2)*(r(s)+γ*V[s2]) for s2 in mdp.estados]))  for a in mdp.acciones)[2]\n",
    "    end\n",
    "    \n",
    "    π_ \n",
    "    \n",
    "end"
   ]
  },
  {
   "cell_type": "code",
   "execution_count": 20,
   "metadata": {},
   "outputs": [
    {
     "name": "stdout",
     "output_type": "stream",
     "text": [
      "Any[0.0, 0.0]\n",
      "antes Array{Any,1}\n",
      "despues\n",
      "Any[0.0, 0.0]\n",
      "antes Array{Any,1}\n",
      "despues\n",
      "Any[0.0, 0]\n",
      "antes Array{Any,1}\n",
      "despues\n",
      "Any[0.0, 0]\n",
      "antes Array{Any,1}\n",
      "despues\n",
      "Any[0.0, 0.0]\n",
      "antes Array{Any,1}\n",
      "despues\n",
      "Any[0.0, 0]\n",
      "antes Array{Any,1}\n",
      "despues\n",
      "Any[0.0, 0.0]\n",
      "antes Array{Any,1}\n",
      "despues\n",
      "Any[0.0, 0.0]\n",
      "antes Array{Any,1}\n",
      "despues\n",
      "Any[0.0, 0]\n",
      "antes Array{Any,1}\n",
      "despues\n",
      "Any[0.0, 0.0]\n",
      "antes Array{Any,1}\n",
      "despues\n",
      "Any[0.0, 0.0]\n",
      "antes Array{Any,1}\n",
      "despues\n",
      "Any[0.0, 0]\n",
      "antes Array{Any,1}\n",
      "despues\n",
      "Any[0.0, 0.0]\n",
      "antes Array{Any,1}\n",
      "despues\n",
      "Any[0.0, 0.0]\n",
      "antes Array{Any,1}\n",
      "despues\n",
      "Any[0.0, 0.0]\n",
      "antes Array{Any,1}\n",
      "despues\n",
      "Any[0.0, 0.0]\n",
      "antes Array{Any,1}\n",
      "despues\n",
      "Any[0.0, 0]\n",
      "antes Array{Any,1}\n",
      "despues\n",
      "Any[0.0, 0.0]\n",
      "antes Array{Any,1}\n",
      "despues\n",
      "Any[0.0, 0.0]\n",
      "antes Array{Any,1}\n",
      "despues\n",
      "Any[0, 0.0]\n",
      "antes Array{Any,1}\n",
      "despues\n",
      "Any[0.0, 0]\n",
      "antes Array{Any,1}\n",
      "despues\n",
      "Any[0.0, 0.0]\n",
      "antes Array{Any,1}\n",
      "despues\n",
      "Any[0.0, 0.0]\n",
      "antes Array{Any,1}\n",
      "despues\n",
      "Any[0.0, 0]\n",
      "antes Array{Any,1}\n",
      "despues\n",
      "Any[0.0, 0]\n",
      "antes Array{Any,1}\n",
      "despues\n",
      "Any[0.0, 0.0]\n",
      "antes Array{Any,1}\n",
      "despues\n",
      "Any[0.0, 0]\n",
      "antes Array{Any,1}\n",
      "despues\n",
      "Any[0.0, 0]\n",
      "antes Array{Any,1}\n",
      "despues\n",
      "Any[0.0, 0.0]\n",
      "antes Array{Any,1}\n",
      "despues\n",
      "Any[0.0, 0.0]\n",
      "antes Array{Any,1}\n",
      "despues\n",
      "Any[0.0, 0.0]\n",
      "antes Array{Any,1}\n",
      "despues\n",
      "Any[0.0, 0.0]\n",
      "antes Array{Any,1}\n",
      "despues\n",
      "Any[0.0, 0.0]\n",
      "antes Array{Any,1}\n",
      "despues\n",
      "Any[0.0, 0.0]\n",
      "antes Array{Any,1}\n",
      "despues\n",
      "Any[0.0, 0.0]\n",
      "antes Array{Any,1}\n",
      "despues\n",
      "Any[0.0, 0.0]\n",
      "antes Array{Any,1}\n",
      "despues\n",
      "Any[0.0, 0.0]\n",
      "antes Array{Any,1}\n",
      "despues\n",
      "Any[0.0, 0.0]\n",
      "antes Array{Any,1}\n",
      "despues\n",
      "Any[0.0, 0]\n",
      "antes Array{Any,1}\n",
      "despues\n",
      "Any[0.0, 0.0]\n",
      "antes Array{Any,1}\n",
      "despues\n",
      "Any[0.0, 0.0]\n",
      "antes Array{Any,1}\n",
      "despues\n",
      "Any[0, 0]\n",
      "antes Array{Any,1}\n",
      "despues\n",
      "Any[0.0, 0]\n",
      "antes Array{Any,1}\n",
      "despues\n",
      "Any[0.0, 0.0]\n",
      "antes Array{Any,1}\n",
      "despues\n",
      "Any[0.0, 0.0]\n",
      "antes Array{Any,1}\n",
      "despues\n",
      "Any[0.0, 0]\n",
      "antes Array{Any,1}\n",
      "despues\n",
      "Any[0.0, 0.0]\n",
      "antes Array{Any,1}\n",
      "despues\n",
      "Any[0.0, 0]\n",
      "antes Array{Any,1}\n",
      "despues\n",
      "Any[0.0, 0.0]\n",
      "antes Array{Any,1}\n",
      "despues\n",
      "Any[0.0, 0.0]\n",
      "antes Array{Any,1}\n",
      "despues\n",
      "Any[0.0, 0.0]\n",
      "antes Array{Any,1}\n",
      "despues\n",
      "Any[0, 0.0]\n",
      "antes Array{Any,1}\n",
      "despues\n",
      "Any[0, 0.0]\n",
      "antes Array{Any,1}\n",
      "despues\n",
      "Any[0.0, 0.0]\n",
      "antes Array{Any,1}\n",
      "despues\n",
      "Any[0.0, 0.0]\n",
      "antes Array{Any,1}\n",
      "despues\n",
      "Any[0.0, 0]\n",
      "antes Array{Any,1}\n",
      "despues\n",
      "Any[952, 952]\n",
      "antes Array{Any,1}\n",
      "despues\n",
      "Any[898.0, 0.0]\n",
      "antes Array{Any,1}\n",
      "despues\n",
      "Any[841.2, 439.385]\n",
      "antes Array{Any,1}\n"
     ]
    },
    {
     "ename": "InexactError",
     "evalue": "InexactError: Int64(Int64, 841.1999999999999)",
     "output_type": "error",
     "traceback": [
      "InexactError: Int64(Int64, 841.1999999999999)",
      "",
      "Stacktrace:",
      " [1] Type at ./float.jl:700 [inlined]",
      " [2] convert at ./number.jl:7 [inlined]",
      " [3] setindex!(::Dict{BJ_s,Int64}, ::Float64, ::BJ_s) at ./dict.jl:381",
      " [4] iter_value(::BJ, ::Int64) at ./In[19]:27",
      " [5] top-level scope at In[20]:1"
     ]
    }
   ],
   "source": [
    "π_opt= iter_value(BlackJ,1)\n",
    "\n",
    "π_opt"
   ]
  },
  {
   "cell_type": "code",
   "execution_count": null,
   "metadata": {
    "collapsed": true
   },
   "outputs": [],
   "source": []
  }
 ],
 "metadata": {
  "kernelspec": {
   "display_name": "Julia 1.0.0",
   "language": "julia",
   "name": "julia-1.0"
  },
  "language_info": {
   "file_extension": ".jl",
   "mimetype": "application/julia",
   "name": "julia",
   "version": "1.0.0"
  }
 },
 "nbformat": 4,
 "nbformat_minor": 2
}
